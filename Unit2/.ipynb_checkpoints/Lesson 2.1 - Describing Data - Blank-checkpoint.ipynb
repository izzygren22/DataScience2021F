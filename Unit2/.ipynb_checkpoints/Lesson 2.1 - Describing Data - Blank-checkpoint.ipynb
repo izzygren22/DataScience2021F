{
 "cells": [
  {
   "cell_type": "markdown",
   "id": "58b0800d",
   "metadata": {},
   "source": [
    "# Data Science Lesson - Describing Data\n",
    "---\n",
    "**How do we describe a one-dimensional data set?**\n",
    "\n",
    "Create a list of at least ten numeric grades (0-100). Output the list to verify."
   ]
  },
  {
   "cell_type": "code",
   "execution_count": 11,
   "id": "19a79be5",
   "metadata": {},
   "outputs": [],
   "source": [
    "grades = [45,23,100,98,67,95,87,69,74,52]"
   ]
  },
  {
   "cell_type": "markdown",
   "id": "09ff9e4a",
   "metadata": {},
   "source": [
    "Find the number (the count) of grades in the list and output it."
   ]
  },
  {
   "cell_type": "code",
   "execution_count": 12,
   "id": "acb71f36",
   "metadata": {},
   "outputs": [
    {
     "data": {
      "text/plain": [
       "10"
      ]
     },
     "execution_count": 12,
     "metadata": {},
     "output_type": "execute_result"
    }
   ],
   "source": [
    "len(grades)"
   ]
  },
  {
   "cell_type": "markdown",
   "id": "36a3600d",
   "metadata": {},
   "source": [
    "Calculate the mean grade using an old-fashioned for loop and the count from above."
   ]
  },
  {
   "cell_type": "code",
   "execution_count": 13,
   "id": "6b19a460",
   "metadata": {},
   "outputs": [
    {
     "data": {
      "text/plain": [
       "71.0"
      ]
     },
     "execution_count": 13,
     "metadata": {},
     "output_type": "execute_result"
    }
   ],
   "source": [
    "sum = 0\n",
    "for i in range(len(grades)):\n",
    "    sum += grades[i]\n",
    "mean = sum/len(grades)\n",
    "mean"
   ]
  },
  {
   "cell_type": "markdown",
   "id": "60de1662",
   "metadata": {},
   "source": [
    "Calculate the minimum and maximum grades using an old-fashioned for loop and some clever logic. (You may want to whiteboard an algorithm first!) Output (print) them on one line (e.g., \"Minimum: 67 | Maximum: 99\")"
   ]
  },
  {
   "cell_type": "code",
   "execution_count": 22,
   "id": "a9334a8d",
   "metadata": {},
   "outputs": [
    {
     "name": "stdout",
     "output_type": "stream",
     "text": [
      "Minimum: 23 | Maximum: 100\n"
     ]
    }
   ],
   "source": [
    "min = 100\n",
    "max = 0\n",
    "for i in range(len(grades)):\n",
    "    if grades[i] > max:\n",
    "        max = grades[i]\n",
    "    if grades[i] < min:\n",
    "        min = grades[i]\n",
    "print('Minimum: ' + str(min) + ' | Maximum: ' + str(max))"
   ]
  },
  {
   "cell_type": "markdown",
   "id": "899afe6a",
   "metadata": {},
   "source": [
    "Manually calculate the population standard deviation of grades.\n",
    "See: https://www.thoughtco.com/population-vs-sample-standard-deviations-3126372"
   ]
  },
  {
   "cell_type": "code",
   "execution_count": 29,
   "id": "45ae5b1b",
   "metadata": {},
   "outputs": [
    {
     "data": {
      "text/plain": [
       "24.0249869927124"
      ]
     },
     "execution_count": 29,
     "metadata": {},
     "output_type": "execute_result"
    }
   ],
   "source": [
    "# sum\n",
    "# for grade in grades:\n",
    "#     sum += ((grade - mean)**2)\n",
    "# sd = (sum/len(grades))**(1/2)\n",
    "# print(sd)\n",
    "sum = 0\n",
    "for i in range(len(grades)):\n",
    "    sum += (grades[i] - mean)**2\n",
    "sd = (sum/len(grades))**.5\n",
    "sd"
   ]
  },
  {
   "cell_type": "markdown",
   "id": "7eb375cf",
   "metadata": {},
   "source": [
    "## Use NumPy\n",
    "\n",
    "Import NumPy (as np) and verify the standard deviation using its .std function (which takes a list as an argument).\n",
    "\n",
    "See: https://numpy.org/ and/or https://www.w3schools.com/python/numpy/"
   ]
  },
  {
   "cell_type": "code",
   "execution_count": 30,
   "id": "85c4ff89",
   "metadata": {},
   "outputs": [
    {
     "name": "stdout",
     "output_type": "stream",
     "text": [
      "24.0249869927124\n"
     ]
    }
   ],
   "source": [
    "import numpy as np\n",
    "print(np.std(grades))"
   ]
  },
  {
   "cell_type": "markdown",
   "id": "5d8319cb",
   "metadata": {},
   "source": [
    "**NumPy and other data science modules for Python do all the tedious work for us, and very efficiently!**"
   ]
  },
  {
   "cell_type": "code",
   "execution_count": null,
   "id": "48daf10f",
   "metadata": {},
   "outputs": [],
   "source": []
  }
 ],
 "metadata": {
  "kernelspec": {
   "display_name": "Python 3",
   "language": "python",
   "name": "python3"
  },
  "language_info": {
   "codemirror_mode": {
    "name": "ipython",
    "version": 3
   },
   "file_extension": ".py",
   "mimetype": "text/x-python",
   "name": "python",
   "nbconvert_exporter": "python",
   "pygments_lexer": "ipython3",
   "version": "3.8.8"
  }
 },
 "nbformat": 4,
 "nbformat_minor": 5
}
