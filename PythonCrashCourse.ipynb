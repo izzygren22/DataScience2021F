{
 "cells": [
  {
   "cell_type": "markdown",
   "id": "b146e9e3",
   "metadata": {},
   "source": [
    "# Python Crash Course\n",
    "How to Python! "
   ]
  },
  {
   "cell_type": "code",
   "execution_count": 1,
   "id": "0737098b",
   "metadata": {},
   "outputs": [
    {
     "name": "stdout",
     "output_type": "stream",
     "text": [
      "hello world :)\n"
     ]
    }
   ],
   "source": [
    "print ('hello world :)')"
   ]
  },
  {
   "cell_type": "markdown",
   "id": "5d83c0d0",
   "metadata": {},
   "source": [
    "## Variables"
   ]
  },
  {
   "cell_type": "code",
   "execution_count": 2,
   "id": "911c31fe",
   "metadata": {},
   "outputs": [
    {
     "name": "stdout",
     "output_type": "stream",
     "text": [
      "17\n",
      "Izzy\n"
     ]
    }
   ],
   "source": [
    "age = 17\n",
    "print(age)\n",
    "\n",
    "name = 'Izzy'\n",
    "print (name)"
   ]
  },
  {
   "cell_type": "code",
   "execution_count": 3,
   "id": "fc140fd2",
   "metadata": {},
   "outputs": [
    {
     "name": "stdout",
     "output_type": "stream",
     "text": [
      "Hi! I am Izzy Grenier\n",
      "Izzy has 1 sibling\n"
     ]
    }
   ],
   "source": [
    "#multiple vars in one line\n",
    "numSibs, lastName, tvShow = 1, 'Grenier', 'Community'\n",
    "print ('Hi! I am ' + name + ' ' + lastName)\n",
    "print (name + ' has ' + str(numSibs) + ' sibling')\n"
   ]
  },
  {
   "cell_type": "markdown",
   "id": "99049c68",
   "metadata": {},
   "source": [
    "## Comments"
   ]
  },
  {
   "cell_type": "code",
   "execution_count": 4,
   "id": "4738ec0e",
   "metadata": {},
   "outputs": [],
   "source": [
    "# make a singal line comment using '#'"
   ]
  },
  {
   "cell_type": "code",
   "execution_count": 5,
   "id": "6f0479ea",
   "metadata": {},
   "outputs": [],
   "source": [
    "#This is a comment\n",
    "#written in\n",
    "#more than just one line"
   ]
  },
  {
   "cell_type": "markdown",
   "id": "2b88e638",
   "metadata": {},
   "source": [
    "## Casting"
   ]
  },
  {
   "cell_type": "code",
   "execution_count": 6,
   "id": "a59fa8d2",
   "metadata": {},
   "outputs": [
    {
     "name": "stdout",
     "output_type": "stream",
     "text": [
      "Izzy is 17\n"
     ]
    }
   ],
   "source": [
    "print(name + ' is ' + str(age))"
   ]
  },
  {
   "cell_type": "markdown",
   "id": "99535e57",
   "metadata": {},
   "source": [
    "### Cast float to int"
   ]
  },
  {
   "cell_type": "code",
   "execution_count": 7,
   "id": "23eaf324",
   "metadata": {},
   "outputs": [
    {
     "name": "stdout",
     "output_type": "stream",
     "text": [
      "3.2\n",
      "3\n"
     ]
    }
   ],
   "source": [
    "x = 3.2\n",
    "print(x)\n",
    "x = int(x)\n",
    "print(x)"
   ]
  },
  {
   "cell_type": "markdown",
   "id": "cdbc2a12",
   "metadata": {},
   "source": [
    "## Data Types"
   ]
  },
  {
   "cell_type": "code",
   "execution_count": 8,
   "id": "82666884",
   "metadata": {},
   "outputs": [
    {
     "name": "stdout",
     "output_type": "stream",
     "text": [
      "<class 'int'>\n"
     ]
    }
   ],
   "source": [
    "print(type(age))"
   ]
  },
  {
   "cell_type": "markdown",
   "id": "66e96450",
   "metadata": {},
   "source": [
    "### Strings"
   ]
  },
  {
   "cell_type": "code",
   "execution_count": 9,
   "id": "95c9a8f5",
   "metadata": {},
   "outputs": [
    {
     "name": "stdout",
     "output_type": "stream",
     "text": [
      "Izzy is very tired,\n",
      "her tongue is still burnt,\n",
      "from this morning\n",
      "which is not fun.\n"
     ]
    }
   ],
   "source": [
    "poem = '''Izzy is very tired,\n",
    "her tongue is still burnt,\n",
    "from this morning\n",
    "which is not fun.'''\n",
    "print(poem)"
   ]
  },
  {
   "cell_type": "code",
   "execution_count": 12,
   "id": "7b97736b",
   "metadata": {},
   "outputs": [
    {
     "name": "stdout",
     "output_type": "stream",
     "text": [
      "Izzy is very tired\n"
     ]
    }
   ],
   "source": [
    "firstLine = poem[0:18]\n",
    "print(firstLine);"
   ]
  },
  {
   "cell_type": "code",
   "execution_count": 14,
   "id": "2df26ec3",
   "metadata": {},
   "outputs": [
    {
     "name": "stdout",
     "output_type": "stream",
     "text": [
      "IZZY IS VERY TIRED,\n",
      "HER TONGUE IS STILL BURNT,\n",
      "FROM THIS MORNING\n",
      "WHICH IS NOT FUN.\n"
     ]
    }
   ],
   "source": [
    "print(poem.upper())"
   ]
  },
  {
   "cell_type": "code",
   "execution_count": 26,
   "id": "2ed61e17",
   "metadata": {},
   "outputs": [
    {
     "name": "stdout",
     "output_type": "stream",
     "text": [
      " Hi! I am a 'senior' at APH. \n"
     ]
    }
   ],
   "source": [
    "txt = ' Hi! I am a \\'senior\\' at APH. '\n",
    "print(txt)"
   ]
  }
 ],
 "metadata": {
  "kernelspec": {
   "display_name": "Python 3 (ipykernel)",
   "language": "python",
   "name": "python3"
  },
  "language_info": {
   "codemirror_mode": {
    "name": "ipython",
    "version": 3
   },
   "file_extension": ".py",
   "mimetype": "text/x-python",
   "name": "python",
   "nbconvert_exporter": "python",
   "pygments_lexer": "ipython3",
   "version": "3.9.7"
  }
 },
 "nbformat": 4,
 "nbformat_minor": 5
}
