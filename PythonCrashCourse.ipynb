{
 "cells": [
  {
   "cell_type": "markdown",
   "id": "b146e9e3",
   "metadata": {},
   "source": [
    "# Python Crash Course\n",
    "How to Python! "
   ]
  },
  {
   "cell_type": "code",
   "execution_count": 1,
   "id": "0737098b",
   "metadata": {},
   "outputs": [
    {
     "name": "stdout",
     "output_type": "stream",
     "text": [
      "hello world :)\n"
     ]
    }
   ],
   "source": [
    "print ('hello world :)')"
   ]
  },
  {
   "cell_type": "markdown",
   "id": "5d83c0d0",
   "metadata": {},
   "source": [
    "## Variables"
   ]
  },
  {
   "cell_type": "code",
   "execution_count": 2,
   "id": "911c31fe",
   "metadata": {},
   "outputs": [
    {
     "name": "stdout",
     "output_type": "stream",
     "text": [
      "17\n",
      "Izzy\n"
     ]
    }
   ],
   "source": [
    "age = 17\n",
    "print(age)\n",
    "\n",
    "name = 'Izzy'\n",
    "print (name)"
   ]
  },
  {
   "cell_type": "code",
   "execution_count": 3,
   "id": "fc140fd2",
   "metadata": {},
   "outputs": [
    {
     "name": "stdout",
     "output_type": "stream",
     "text": [
      "Hi! I am Izzy Grenier\n",
      "Izzy has 1 sibling\n"
     ]
    }
   ],
   "source": [
    "#multiple vars in one line\n",
    "numSibs, lastName, tvShow = 1, 'Grenier', 'Community'\n",
    "print ('Hi! I am ' + name + ' ' + lastName)\n",
    "print (name + ' has ' + str(numSibs) + ' sibling')\n"
   ]
  },
  {
   "cell_type": "markdown",
   "id": "99049c68",
   "metadata": {},
   "source": [
    "## Comments"
   ]
  },
  {
   "cell_type": "code",
   "execution_count": 4,
   "id": "4738ec0e",
   "metadata": {},
   "outputs": [],
   "source": [
    "# make a singal line comment using '#'"
   ]
  },
  {
   "cell_type": "code",
   "execution_count": 5,
   "id": "6f0479ea",
   "metadata": {},
   "outputs": [],
   "source": [
    "#This is a comment\n",
    "#written in\n",
    "#more than just one line"
   ]
  },
  {
   "cell_type": "markdown",
   "id": "2b88e638",
   "metadata": {},
   "source": [
    "## Casting"
   ]
  },
  {
   "cell_type": "code",
   "execution_count": 6,
   "id": "a59fa8d2",
   "metadata": {},
   "outputs": [
    {
     "name": "stdout",
     "output_type": "stream",
     "text": [
      "Izzy is 17\n"
     ]
    }
   ],
   "source": [
    "print(name + ' is ' + str(age))"
   ]
  },
  {
   "cell_type": "markdown",
   "id": "99535e57",
   "metadata": {},
   "source": [
    "### Cast float to int"
   ]
  },
  {
   "cell_type": "code",
   "execution_count": 7,
   "id": "23eaf324",
   "metadata": {},
   "outputs": [
    {
     "name": "stdout",
     "output_type": "stream",
     "text": [
      "3.2\n",
      "3\n"
     ]
    }
   ],
   "source": [
    "x = 3.2\n",
    "print(x)\n",
    "x = int(x)\n",
    "print(x)"
   ]
  },
  {
   "cell_type": "markdown",
   "id": "cdbc2a12",
   "metadata": {},
   "source": [
    "## Data Types"
   ]
  },
  {
   "cell_type": "code",
   "execution_count": 8,
   "id": "82666884",
   "metadata": {},
   "outputs": [
    {
     "name": "stdout",
     "output_type": "stream",
     "text": [
      "<class 'int'>\n"
     ]
    }
   ],
   "source": [
    "print(type(age))"
   ]
  },
  {
   "cell_type": "markdown",
   "id": "66e96450",
   "metadata": {},
   "source": [
    "### Strings"
   ]
  },
  {
   "cell_type": "code",
   "execution_count": 9,
   "id": "95c9a8f5",
   "metadata": {},
   "outputs": [
    {
     "name": "stdout",
     "output_type": "stream",
     "text": [
      "Izzy is very tired,\n",
      "her tongue is still burnt,\n",
      "from this morning\n",
      "which is not fun.\n"
     ]
    }
   ],
   "source": [
    "poem = '''Izzy is very tired,\n",
    "her tongue is still burnt,\n",
    "from this morning\n",
    "which is not fun.'''\n",
    "print(poem)"
   ]
  },
  {
   "cell_type": "code",
   "execution_count": 12,
   "id": "7b97736b",
   "metadata": {},
   "outputs": [
    {
     "name": "stdout",
     "output_type": "stream",
     "text": [
      "Izzy is very tired\n"
     ]
    }
   ],
   "source": [
    "firstLine = poem[0:18]\n",
    "print(firstLine);"
   ]
  },
  {
   "cell_type": "code",
   "execution_count": 14,
   "id": "2df26ec3",
   "metadata": {},
   "outputs": [
    {
     "name": "stdout",
     "output_type": "stream",
     "text": [
      "IZZY IS VERY TIRED,\n",
      "HER TONGUE IS STILL BURNT,\n",
      "FROM THIS MORNING\n",
      "WHICH IS NOT FUN.\n"
     ]
    }
   ],
   "source": [
    "print(poem.upper())"
   ]
  },
  {
   "cell_type": "code",
   "execution_count": 26,
   "id": "2ed61e17",
   "metadata": {},
   "outputs": [
    {
     "name": "stdout",
     "output_type": "stream",
     "text": [
      " Hi! I am a 'senior' at APH. \n"
     ]
    }
   ],
   "source": [
    "txt = ' Hi! I am a \\'senior\\' at APH. '\n",
    "print(txt)"
   ]
  },
  {
   "cell_type": "markdown",
   "id": "212f5619",
   "metadata": {},
   "source": [
    "### String Exercises"
   ]
  },
  {
   "cell_type": "markdown",
   "id": "f854902c",
   "metadata": {},
   "source": [
    "Find length of string"
   ]
  },
  {
   "cell_type": "code",
   "execution_count": 2,
   "id": "6cd04895",
   "metadata": {},
   "outputs": [
    {
     "name": "stdout",
     "output_type": "stream",
     "text": [
      "11\n"
     ]
    }
   ],
   "source": [
    "words = \"Hello World\"\n",
    "print(len(words))"
   ]
  },
  {
   "cell_type": "markdown",
   "id": "fe78ed57",
   "metadata": {},
   "source": [
    "Find first character of string"
   ]
  },
  {
   "cell_type": "code",
   "execution_count": 5,
   "id": "20219253",
   "metadata": {},
   "outputs": [
    {
     "name": "stdout",
     "output_type": "stream",
     "text": [
      "H\n"
     ]
    }
   ],
   "source": [
    "new = words[0]\n",
    "print (new)"
   ]
  },
  {
   "cell_type": "markdown",
   "id": "93fcbccb",
   "metadata": {},
   "source": [
    "get just 'llo' "
   ]
  },
  {
   "cell_type": "code",
   "execution_count": 9,
   "id": "0a28f14c",
   "metadata": {},
   "outputs": [
    {
     "name": "stdout",
     "output_type": "stream",
     "text": [
      "llo\n"
     ]
    }
   ],
   "source": [
    "new = words[2:5]\n",
    "print(new)"
   ]
  },
  {
   "cell_type": "code",
   "execution_count": null,
   "id": "dd5e7c77",
   "metadata": {},
   "outputs": [],
   "source": [
    "Remove whitespace"
   ]
  },
  {
   "cell_type": "code",
   "execution_count": 16,
   "id": "3a38ad80",
   "metadata": {},
   "outputs": [
    {
     "name": "stdout",
     "output_type": "stream",
     "text": [
      "Hello World\n"
     ]
    }
   ],
   "source": [
    "wrongwords = '   Hello World     '\n",
    "words = wrongwords.strip()\n",
    "print(words)"
   ]
  },
  {
   "cell_type": "markdown",
   "id": "56eaea51",
   "metadata": {},
   "source": [
    "Upper case"
   ]
  },
  {
   "cell_type": "code",
   "execution_count": 20,
   "id": "d03ce0bf",
   "metadata": {},
   "outputs": [
    {
     "name": "stdout",
     "output_type": "stream",
     "text": [
      "HELLO WORLD\n"
     ]
    }
   ],
   "source": [
    "words = words.upper()\n",
    "print(words)"
   ]
  },
  {
   "cell_type": "markdown",
   "id": "d39cd51c",
   "metadata": {},
   "source": [
    "Lower Case"
   ]
  },
  {
   "cell_type": "code",
   "execution_count": 21,
   "id": "fcc6c7cf",
   "metadata": {},
   "outputs": [
    {
     "name": "stdout",
     "output_type": "stream",
     "text": [
      "hello world\n"
     ]
    }
   ],
   "source": [
    "words = words.lower()\n",
    "print(words)"
   ]
  },
  {
   "cell_type": "markdown",
   "id": "792c58c5",
   "metadata": {},
   "source": [
    "Replace the character H with a J."
   ]
  },
  {
   "cell_type": "code",
   "execution_count": 23,
   "id": "fcca352a",
   "metadata": {},
   "outputs": [
    {
     "name": "stdout",
     "output_type": "stream",
     "text": [
      "jello world\n"
     ]
    }
   ],
   "source": [
    "newWords = words.replace(\"h\",\"j\")\n",
    "print(newWords)"
   ]
  },
  {
   "cell_type": "markdown",
   "id": "1407e0fe",
   "metadata": {},
   "source": [
    "Insert the correct syntax to add a placeholder for the age parameter."
   ]
  },
  {
   "cell_type": "code",
   "execution_count": 1,
   "id": "88d1d586",
   "metadata": {},
   "outputs": [
    {
     "name": "stdout",
     "output_type": "stream",
     "text": [
      "My name is John, and I am 36\n"
     ]
    }
   ],
   "source": [
    "age = 36\n",
    "txt = \"My name is John, and I am {}\"\n",
    "print(txt.format(age))"
   ]
  },
  {
   "cell_type": "markdown",
   "id": "4f995dde",
   "metadata": {},
   "source": [
    "## Booleans and Operations"
   ]
  },
  {
   "cell_type": "markdown",
   "id": "edfd5b02",
   "metadata": {},
   "source": [
    "Mod (%) is a operation that can be used to find the remainder of division."
   ]
  },
  {
   "cell_type": "code",
   "execution_count": 31,
   "id": "108c8a2a",
   "metadata": {},
   "outputs": [
    {
     "name": "stdout",
     "output_type": "stream",
     "text": [
      "True\n"
     ]
    }
   ],
   "source": [
    "print(5 % 2 != 0);"
   ]
  },
  {
   "cell_type": "markdown",
   "id": "163e11b7",
   "metadata": {},
   "source": [
    "## Lists"
   ]
  },
  {
   "cell_type": "code",
   "execution_count": 12,
   "id": "a73a54f3",
   "metadata": {},
   "outputs": [
    {
     "name": "stdout",
     "output_type": "stream",
     "text": [
      "['sword', 'eyepatch', 'gold']\n",
      "eyepatch\n",
      "['sword', 'monkey', 'gold']\n"
     ]
    }
   ],
   "source": [
    "pirateStuff = ['sword', 'eyepatch', 'gold']\n",
    "print(pirateStuff)\n",
    "print(pirateStuff[1]) # print eyepatch\n",
    "pirateStuff[1] = 'monkey' # replace eyepatch with monkey\n",
    "print(pirateStuff)"
   ]
  },
  {
   "cell_type": "code",
   "execution_count": 16,
   "id": "9ea36745",
   "metadata": {},
   "outputs": [
    {
     "name": "stdout",
     "output_type": "stream",
     "text": [
      "sword\n",
      "monkey\n",
      "gold\n"
     ]
    }
   ],
   "source": [
    "for thing in pirateStuff:\n",
    "    print(thing)"
   ]
  },
  {
   "cell_type": "code",
   "execution_count": 17,
   "id": "db8835ef",
   "metadata": {},
   "outputs": [
    {
     "name": "stdout",
     "output_type": "stream",
     "text": [
      "sword\n",
      "monkey\n",
      "gold\n"
     ]
    }
   ],
   "source": [
    "for i in range(len(pirateStuff)):\n",
    "  print(pirateStuff[i])"
   ]
  },
  {
   "cell_type": "markdown",
   "id": "84dec999",
   "metadata": {},
   "source": [
    "## Tuples and Sets"
   ]
  },
  {
   "cell_type": "code",
   "execution_count": 22,
   "id": "14c39e88",
   "metadata": {},
   "outputs": [
    {
     "name": "stdout",
     "output_type": "stream",
     "text": [
      "('apple', 'banana', 'cherry')\n"
     ]
    }
   ],
   "source": [
    "mytuple = (\"apple\", \"banana\", \"cherry\")\n",
    "print(mytuple)"
   ]
  },
  {
   "cell_type": "code",
   "execution_count": 23,
   "id": "0205a345",
   "metadata": {},
   "outputs": [
    {
     "name": "stdout",
     "output_type": "stream",
     "text": [
      "{'banana', 'apple', 'cherry'}\n"
     ]
    }
   ],
   "source": [
    "myset = {\"apple\", \"banana\", \"cherry\"}\n",
    "print(myset)"
   ]
  },
  {
   "cell_type": "markdown",
   "id": "5a39aa30",
   "metadata": {},
   "source": [
    "## Dict(ionaries)"
   ]
  },
  {
   "cell_type": "code",
   "execution_count": 30,
   "id": "8178405c",
   "metadata": {},
   "outputs": [
    {
     "name": "stdout",
     "output_type": "stream",
     "text": [
      "Taylor Swift\n"
     ]
    }
   ],
   "source": [
    "izzyDict = {\n",
    "    \"name\": \"Izzy\",\n",
    "    \"age\": 17,\n",
    "    \"fav singer\": \"Taylor Swift\"\n",
    "}\n",
    "print(izzyDict[\"fav singer\"])"
   ]
  },
  {
   "cell_type": "markdown",
   "id": "6cd063e4",
   "metadata": {},
   "source": [
    "## Conditionals"
   ]
  },
  {
   "cell_type": "markdown",
   "id": "db70ec72",
   "metadata": {},
   "source": [
    "### If "
   ]
  },
  {
   "cell_type": "code",
   "execution_count": 4,
   "id": "39c4dfdb",
   "metadata": {},
   "outputs": [
    {
     "name": "stdout",
     "output_type": "stream",
     "text": [
      "player 1 wins!\n"
     ]
    }
   ],
   "source": [
    "player1 = 6\n",
    "player2 = 4\n",
    "if player1 > player2:\n",
    "    print ('player 1 wins!')"
   ]
  },
  {
   "cell_type": "markdown",
   "id": "79b13e6a",
   "metadata": {},
   "source": [
    "### Else"
   ]
  },
  {
   "cell_type": "code",
   "execution_count": 5,
   "id": "8e31acbe",
   "metadata": {},
   "outputs": [
    {
     "name": "stdout",
     "output_type": "stream",
     "text": [
      "player 2 wins!\n"
     ]
    }
   ],
   "source": [
    "player2 += 3\n",
    "if player1 > player2:\n",
    "    print ('player 1 wins!')\n",
    "else:\n",
    "    print ('player 2 wins!')"
   ]
  },
  {
   "cell_type": "markdown",
   "id": "c8a7748b",
   "metadata": {},
   "source": [
    "### Elif"
   ]
  },
  {
   "cell_type": "code",
   "execution_count": 10,
   "id": "b2712051",
   "metadata": {},
   "outputs": [
    {
     "name": "stdout",
     "output_type": "stream",
     "text": [
      "tie, try again!\n"
     ]
    }
   ],
   "source": [
    "player1 += 1;\n",
    "if player1 > player2:\n",
    "    print ('player 1 wins!')\n",
    "elif player1 == player2:\n",
    "    print ('tie, try again!')\n",
    "else:\n",
    "    print ('player 2 wins!')"
   ]
  },
  {
   "cell_type": "markdown",
   "id": "8863dd01",
   "metadata": {},
   "source": [
    "## Ternary"
   ]
  },
  {
   "cell_type": "code",
   "execution_count": 11,
   "id": "a3dacbac",
   "metadata": {},
   "outputs": [
    {
     "name": "stdout",
     "output_type": "stream",
     "text": [
      "player 2 wins!\n"
     ]
    }
   ],
   "source": [
    "#one line conditional statements\n",
    "player1 = 10\n",
    "player2 = 12\n",
    "print('player 1 wins!') if player1 > player2 else print('tie, try again!') if player1 == player2 else print('player 2 wins!')\n"
   ]
  },
  {
   "cell_type": "markdown",
   "id": "85d7ec7a",
   "metadata": {},
   "source": [
    "## Loops"
   ]
  },
  {
   "cell_type": "markdown",
   "id": "c4f2ab25",
   "metadata": {},
   "source": [
    "### While Loops"
   ]
  },
  {
   "cell_type": "code",
   "execution_count": 12,
   "id": "33aaca2f",
   "metadata": {},
   "outputs": [],
   "source": [
    "# Use a variable as a counter to end the while loop. Count from 1 - 10."
   ]
  },
  {
   "cell_type": "code",
   "execution_count": 1,
   "id": "658ff2c4",
   "metadata": {},
   "outputs": [
    {
     "name": "stdout",
     "output_type": "stream",
     "text": [
      "1\n",
      "2\n",
      "3\n",
      "4\n",
      "5\n",
      "6\n",
      "7\n",
      "8\n",
      "9\n",
      "10\n"
     ]
    }
   ],
   "source": [
    "num = 1;\n",
    "while num <= 10:\n",
    "    print(num)\n",
    "    num += 1"
   ]
  },
  {
   "cell_type": "markdown",
   "id": "f5ce4c90",
   "metadata": {},
   "source": [
    "### For Loops"
   ]
  },
  {
   "cell_type": "code",
   "execution_count": 2,
   "id": "55d149ed",
   "metadata": {},
   "outputs": [],
   "source": [
    "#simple example printing numbers 1-10"
   ]
  },
  {
   "cell_type": "code",
   "execution_count": 5,
   "id": "76aa9d6f",
   "metadata": {},
   "outputs": [
    {
     "name": "stdout",
     "output_type": "stream",
     "text": [
      "1\n",
      "2\n",
      "3\n",
      "4\n",
      "5\n",
      "6\n",
      "7\n",
      "8\n",
      "9\n",
      "10\n"
     ]
    }
   ],
   "source": [
    "for x in range(1,11):\n",
    "    print (x)"
   ]
  },
  {
   "cell_type": "markdown",
   "id": "b31130e4",
   "metadata": {},
   "source": [
    "## User Input"
   ]
  },
  {
   "cell_type": "code",
   "execution_count": 1,
   "id": "1de35415",
   "metadata": {},
   "outputs": [
    {
     "name": "stdout",
     "output_type": "stream",
     "text": [
      "Enter username:Izzy\n",
      "Username: Izzy\n"
     ]
    }
   ],
   "source": [
    "name1 = input(\"Enter first name:\")\n",
    "print(\"first name: \" + name1)"
   ]
  },
  {
   "cell_type": "markdown",
   "id": "58218e72",
   "metadata": {},
   "source": [
    "## Functions"
   ]
  },
  {
   "cell_type": "code",
   "execution_count": 9,
   "id": "5df5d60f",
   "metadata": {},
   "outputs": [
    {
     "name": "stdout",
     "output_type": "stream",
     "text": [
      "What is your last name Izzy? Grenier\n",
      "Hello Izzy Grenier\n"
     ]
    }
   ],
   "source": [
    "def grtng(name1):\n",
    "    name2 = input('What is your last name ' + name1 + '? ')\n",
    "    print('Hello ' + name1 + ' ' + name2)\n",
    "grtng('Izzy')"
   ]
  },
  {
   "cell_type": "code",
   "execution_count": null,
   "id": "c8a96f91",
   "metadata": {},
   "outputs": [],
   "source": []
  }
 ],
 "metadata": {
  "kernelspec": {
   "display_name": "Python 3",
   "language": "python",
   "name": "python3"
  },
  "language_info": {
   "codemirror_mode": {
    "name": "ipython",
    "version": 3
   },
   "file_extension": ".py",
   "mimetype": "text/x-python",
   "name": "python",
   "nbconvert_exporter": "python",
   "pygments_lexer": "ipython3",
   "version": "3.8.8"
  }
 },
 "nbformat": 4,
 "nbformat_minor": 5
}
