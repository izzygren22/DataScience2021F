{
 "cells": [
  {
   "cell_type": "code",
   "execution_count": 1,
   "id": "5903e334",
   "metadata": {},
   "outputs": [
    {
     "data": {
      "text/html": [
       "<div>\n",
       "<style scoped>\n",
       "    .dataframe tbody tr th:only-of-type {\n",
       "        vertical-align: middle;\n",
       "    }\n",
       "\n",
       "    .dataframe tbody tr th {\n",
       "        vertical-align: top;\n",
       "    }\n",
       "\n",
       "    .dataframe thead th {\n",
       "        text-align: right;\n",
       "    }\n",
       "</style>\n",
       "<table border=\"1\" class=\"dataframe\">\n",
       "  <thead>\n",
       "    <tr style=\"text-align: right;\">\n",
       "      <th></th>\n",
       "      <th>Year</th>\n",
       "      <th>CSIRO Adjusted Sea Level</th>\n",
       "      <th>Lower Error Bound</th>\n",
       "      <th>Upper Error Bound</th>\n",
       "      <th>NOAA Adjusted Sea Level</th>\n",
       "    </tr>\n",
       "  </thead>\n",
       "  <tbody>\n",
       "    <tr>\n",
       "      <th>0</th>\n",
       "      <td>1880-03-15</td>\n",
       "      <td>0.000000</td>\n",
       "      <td>-0.952756</td>\n",
       "      <td>0.952756</td>\n",
       "      <td>NaN</td>\n",
       "    </tr>\n",
       "    <tr>\n",
       "      <th>1</th>\n",
       "      <td>1881-03-15</td>\n",
       "      <td>0.220472</td>\n",
       "      <td>-0.732283</td>\n",
       "      <td>1.173228</td>\n",
       "      <td>NaN</td>\n",
       "    </tr>\n",
       "    <tr>\n",
       "      <th>2</th>\n",
       "      <td>1882-03-15</td>\n",
       "      <td>-0.440945</td>\n",
       "      <td>-1.346457</td>\n",
       "      <td>0.464567</td>\n",
       "      <td>NaN</td>\n",
       "    </tr>\n",
       "    <tr>\n",
       "      <th>3</th>\n",
       "      <td>1883-03-15</td>\n",
       "      <td>-0.232283</td>\n",
       "      <td>-1.129921</td>\n",
       "      <td>0.665354</td>\n",
       "      <td>NaN</td>\n",
       "    </tr>\n",
       "    <tr>\n",
       "      <th>4</th>\n",
       "      <td>1884-03-15</td>\n",
       "      <td>0.590551</td>\n",
       "      <td>-0.283465</td>\n",
       "      <td>1.464567</td>\n",
       "      <td>NaN</td>\n",
       "    </tr>\n",
       "    <tr>\n",
       "      <th>...</th>\n",
       "      <td>...</td>\n",
       "      <td>...</td>\n",
       "      <td>...</td>\n",
       "      <td>...</td>\n",
       "      <td>...</td>\n",
       "    </tr>\n",
       "    <tr>\n",
       "      <th>130</th>\n",
       "      <td>2010-03-15</td>\n",
       "      <td>8.901575</td>\n",
       "      <td>8.618110</td>\n",
       "      <td>9.185039</td>\n",
       "      <td>8.122973</td>\n",
       "    </tr>\n",
       "    <tr>\n",
       "      <th>131</th>\n",
       "      <td>2011-03-15</td>\n",
       "      <td>8.964567</td>\n",
       "      <td>8.661417</td>\n",
       "      <td>9.267717</td>\n",
       "      <td>8.053065</td>\n",
       "    </tr>\n",
       "    <tr>\n",
       "      <th>132</th>\n",
       "      <td>2012-03-15</td>\n",
       "      <td>9.326772</td>\n",
       "      <td>8.992126</td>\n",
       "      <td>9.661417</td>\n",
       "      <td>8.457058</td>\n",
       "    </tr>\n",
       "    <tr>\n",
       "      <th>133</th>\n",
       "      <td>2013-03-15</td>\n",
       "      <td>8.980315</td>\n",
       "      <td>8.622047</td>\n",
       "      <td>9.338583</td>\n",
       "      <td>8.546648</td>\n",
       "    </tr>\n",
       "    <tr>\n",
       "      <th>134</th>\n",
       "      <td>2014-03-15</td>\n",
       "      <td>NaN</td>\n",
       "      <td>NaN</td>\n",
       "      <td>NaN</td>\n",
       "      <td>8.663700</td>\n",
       "    </tr>\n",
       "  </tbody>\n",
       "</table>\n",
       "<p>135 rows × 5 columns</p>\n",
       "</div>"
      ],
      "text/plain": [
       "          Year  CSIRO Adjusted Sea Level  Lower Error Bound  \\\n",
       "0   1880-03-15                  0.000000          -0.952756   \n",
       "1   1881-03-15                  0.220472          -0.732283   \n",
       "2   1882-03-15                 -0.440945          -1.346457   \n",
       "3   1883-03-15                 -0.232283          -1.129921   \n",
       "4   1884-03-15                  0.590551          -0.283465   \n",
       "..         ...                       ...                ...   \n",
       "130 2010-03-15                  8.901575           8.618110   \n",
       "131 2011-03-15                  8.964567           8.661417   \n",
       "132 2012-03-15                  9.326772           8.992126   \n",
       "133 2013-03-15                  8.980315           8.622047   \n",
       "134 2014-03-15                       NaN                NaN   \n",
       "\n",
       "     Upper Error Bound  NOAA Adjusted Sea Level  \n",
       "0             0.952756                      NaN  \n",
       "1             1.173228                      NaN  \n",
       "2             0.464567                      NaN  \n",
       "3             0.665354                      NaN  \n",
       "4             1.464567                      NaN  \n",
       "..                 ...                      ...  \n",
       "130           9.185039                 8.122973  \n",
       "131           9.267717                 8.053065  \n",
       "132           9.661417                 8.457058  \n",
       "133           9.338583                 8.546648  \n",
       "134                NaN                 8.663700  \n",
       "\n",
       "[135 rows x 5 columns]"
      ]
     },
     "execution_count": 1,
     "metadata": {},
     "output_type": "execute_result"
    }
   ],
   "source": [
    "import pandas as pd\n",
    "import seaborn as sns\n",
    "from sklearn.linear_model import LinearRegression\n",
    "sea_lvl = pd.read_csv('epa-sea-level.csv', parse_dates = ['Year'])\n",
    "sea_lvl"
   ]
  },
  {
   "cell_type": "code",
   "execution_count": 2,
   "id": "6d1e4414",
   "metadata": {},
   "outputs": [
    {
     "name": "stdout",
     "output_type": "stream",
     "text": [
      "<class 'pandas.core.frame.DataFrame'>\n",
      "RangeIndex: 135 entries, 0 to 134\n",
      "Data columns (total 5 columns):\n",
      " #   Column                    Non-Null Count  Dtype         \n",
      "---  ------                    --------------  -----         \n",
      " 0   Year                      135 non-null    datetime64[ns]\n",
      " 1   CSIRO Adjusted Sea Level  134 non-null    float64       \n",
      " 2   Lower Error Bound         134 non-null    float64       \n",
      " 3   Upper Error Bound         134 non-null    float64       \n",
      " 4   NOAA Adjusted Sea Level   22 non-null     float64       \n",
      "dtypes: datetime64[ns](1), float64(4)\n",
      "memory usage: 5.4 KB\n"
     ]
    }
   ],
   "source": [
    "sea_lvl.info()"
   ]
  },
  {
   "cell_type": "code",
   "execution_count": 3,
   "id": "46bf0ca0",
   "metadata": {},
   "outputs": [
    {
     "data": {
      "text/html": [
       "<div>\n",
       "<style scoped>\n",
       "    .dataframe tbody tr th:only-of-type {\n",
       "        vertical-align: middle;\n",
       "    }\n",
       "\n",
       "    .dataframe tbody tr th {\n",
       "        vertical-align: top;\n",
       "    }\n",
       "\n",
       "    .dataframe thead th {\n",
       "        text-align: right;\n",
       "    }\n",
       "</style>\n",
       "<table border=\"1\" class=\"dataframe\">\n",
       "  <thead>\n",
       "    <tr style=\"text-align: right;\">\n",
       "      <th></th>\n",
       "      <th>Year</th>\n",
       "      <th>CSIRO Adjusted Sea Level</th>\n",
       "    </tr>\n",
       "  </thead>\n",
       "  <tbody>\n",
       "    <tr>\n",
       "      <th>0</th>\n",
       "      <td>1880-03-15</td>\n",
       "      <td>0.000000</td>\n",
       "    </tr>\n",
       "    <tr>\n",
       "      <th>1</th>\n",
       "      <td>1881-03-15</td>\n",
       "      <td>0.220472</td>\n",
       "    </tr>\n",
       "    <tr>\n",
       "      <th>2</th>\n",
       "      <td>1882-03-15</td>\n",
       "      <td>-0.440945</td>\n",
       "    </tr>\n",
       "    <tr>\n",
       "      <th>3</th>\n",
       "      <td>1883-03-15</td>\n",
       "      <td>-0.232283</td>\n",
       "    </tr>\n",
       "    <tr>\n",
       "      <th>4</th>\n",
       "      <td>1884-03-15</td>\n",
       "      <td>0.590551</td>\n",
       "    </tr>\n",
       "    <tr>\n",
       "      <th>...</th>\n",
       "      <td>...</td>\n",
       "      <td>...</td>\n",
       "    </tr>\n",
       "    <tr>\n",
       "      <th>130</th>\n",
       "      <td>2010-03-15</td>\n",
       "      <td>8.901575</td>\n",
       "    </tr>\n",
       "    <tr>\n",
       "      <th>131</th>\n",
       "      <td>2011-03-15</td>\n",
       "      <td>8.964567</td>\n",
       "    </tr>\n",
       "    <tr>\n",
       "      <th>132</th>\n",
       "      <td>2012-03-15</td>\n",
       "      <td>9.326772</td>\n",
       "    </tr>\n",
       "    <tr>\n",
       "      <th>133</th>\n",
       "      <td>2013-03-15</td>\n",
       "      <td>8.980315</td>\n",
       "    </tr>\n",
       "    <tr>\n",
       "      <th>134</th>\n",
       "      <td>2014-03-15</td>\n",
       "      <td>NaN</td>\n",
       "    </tr>\n",
       "  </tbody>\n",
       "</table>\n",
       "<p>135 rows × 2 columns</p>\n",
       "</div>"
      ],
      "text/plain": [
       "          Year  CSIRO Adjusted Sea Level\n",
       "0   1880-03-15                  0.000000\n",
       "1   1881-03-15                  0.220472\n",
       "2   1882-03-15                 -0.440945\n",
       "3   1883-03-15                 -0.232283\n",
       "4   1884-03-15                  0.590551\n",
       "..         ...                       ...\n",
       "130 2010-03-15                  8.901575\n",
       "131 2011-03-15                  8.964567\n",
       "132 2012-03-15                  9.326772\n",
       "133 2013-03-15                  8.980315\n",
       "134 2014-03-15                       NaN\n",
       "\n",
       "[135 rows x 2 columns]"
      ]
     },
     "execution_count": 3,
     "metadata": {},
     "output_type": "execute_result"
    }
   ],
   "source": [
    "sea_lvl.drop(['Lower Error Bound', 'Upper Error Bound','NOAA Adjusted Sea Level'], inplace = True, axis = 'columns')\n",
    "sea_lvl\n"
   ]
  },
  {
   "cell_type": "code",
   "execution_count": 4,
   "id": "fbcd0463",
   "metadata": {},
   "outputs": [
    {
     "name": "stdout",
     "output_type": "stream",
     "text": [
      "<class 'pandas.core.frame.DataFrame'>\n",
      "RangeIndex: 135 entries, 0 to 134\n",
      "Data columns (total 2 columns):\n",
      " #   Column     Non-Null Count  Dtype         \n",
      "---  ------     --------------  -----         \n",
      " 0   Year       135 non-null    datetime64[ns]\n",
      " 1   sea_level  134 non-null    float64       \n",
      "dtypes: datetime64[ns](1), float64(1)\n",
      "memory usage: 2.2 KB\n"
     ]
    }
   ],
   "source": [
    "sea_lvl.rename({'CSIRO Adjusted Sea Level': 'sea_level'}, inplace = True, axis = 'columns')\n",
    "sea_lvl.info()"
   ]
  },
  {
   "cell_type": "code",
   "execution_count": 5,
   "id": "e2cc7371",
   "metadata": {},
   "outputs": [
    {
     "data": {
      "text/html": [
       "<div>\n",
       "<style scoped>\n",
       "    .dataframe tbody tr th:only-of-type {\n",
       "        vertical-align: middle;\n",
       "    }\n",
       "\n",
       "    .dataframe tbody tr th {\n",
       "        vertical-align: top;\n",
       "    }\n",
       "\n",
       "    .dataframe thead th {\n",
       "        text-align: right;\n",
       "    }\n",
       "</style>\n",
       "<table border=\"1\" class=\"dataframe\">\n",
       "  <thead>\n",
       "    <tr style=\"text-align: right;\">\n",
       "      <th></th>\n",
       "      <th>Year</th>\n",
       "      <th>sea_level</th>\n",
       "    </tr>\n",
       "  </thead>\n",
       "  <tbody>\n",
       "    <tr>\n",
       "      <th>0</th>\n",
       "      <td>1880-03-15</td>\n",
       "      <td>0.000000</td>\n",
       "    </tr>\n",
       "    <tr>\n",
       "      <th>1</th>\n",
       "      <td>1881-03-15</td>\n",
       "      <td>0.220472</td>\n",
       "    </tr>\n",
       "    <tr>\n",
       "      <th>2</th>\n",
       "      <td>1882-03-15</td>\n",
       "      <td>-0.440945</td>\n",
       "    </tr>\n",
       "    <tr>\n",
       "      <th>3</th>\n",
       "      <td>1883-03-15</td>\n",
       "      <td>-0.232283</td>\n",
       "    </tr>\n",
       "    <tr>\n",
       "      <th>4</th>\n",
       "      <td>1884-03-15</td>\n",
       "      <td>0.590551</td>\n",
       "    </tr>\n",
       "    <tr>\n",
       "      <th>...</th>\n",
       "      <td>...</td>\n",
       "      <td>...</td>\n",
       "    </tr>\n",
       "    <tr>\n",
       "      <th>129</th>\n",
       "      <td>2009-03-15</td>\n",
       "      <td>8.586614</td>\n",
       "    </tr>\n",
       "    <tr>\n",
       "      <th>130</th>\n",
       "      <td>2010-03-15</td>\n",
       "      <td>8.901575</td>\n",
       "    </tr>\n",
       "    <tr>\n",
       "      <th>131</th>\n",
       "      <td>2011-03-15</td>\n",
       "      <td>8.964567</td>\n",
       "    </tr>\n",
       "    <tr>\n",
       "      <th>132</th>\n",
       "      <td>2012-03-15</td>\n",
       "      <td>9.326772</td>\n",
       "    </tr>\n",
       "    <tr>\n",
       "      <th>133</th>\n",
       "      <td>2013-03-15</td>\n",
       "      <td>8.980315</td>\n",
       "    </tr>\n",
       "  </tbody>\n",
       "</table>\n",
       "<p>134 rows × 2 columns</p>\n",
       "</div>"
      ],
      "text/plain": [
       "          Year  sea_level\n",
       "0   1880-03-15   0.000000\n",
       "1   1881-03-15   0.220472\n",
       "2   1882-03-15  -0.440945\n",
       "3   1883-03-15  -0.232283\n",
       "4   1884-03-15   0.590551\n",
       "..         ...        ...\n",
       "129 2009-03-15   8.586614\n",
       "130 2010-03-15   8.901575\n",
       "131 2011-03-15   8.964567\n",
       "132 2012-03-15   9.326772\n",
       "133 2013-03-15   8.980315\n",
       "\n",
       "[134 rows x 2 columns]"
      ]
     },
     "execution_count": 5,
     "metadata": {},
     "output_type": "execute_result"
    }
   ],
   "source": [
    "sea_lvl.dropna(inplace = True)\n",
    "sea_lvl"
   ]
  },
  {
   "cell_type": "code",
   "execution_count": 6,
   "id": "fe47bd9d",
   "metadata": {},
   "outputs": [],
   "source": [
    "sea_lvl['Year'] = sea_lvl['Year'].dt.year"
   ]
  },
  {
   "cell_type": "code",
   "execution_count": 7,
   "id": "02b5e3c5",
   "metadata": {},
   "outputs": [
    {
     "data": {
      "text/plain": [
       "<AxesSubplot:xlabel='Year', ylabel='sea_level'>"
      ]
     },
     "execution_count": 7,
     "metadata": {},
     "output_type": "execute_result"
    },
    {
     "data": {
      "image/png": "[encoded data removed]",
      "text/plain": [
       "<Figure size 432x288 with 1 Axes>"
      ]
     },
     "metadata": {
      "needs_background": "light"
     },
     "output_type": "display_data"
    }
   ],
   "source": [
    "sns.regplot(x = 'Year',y = 'sea_level', data = sea_lvl)"
   ]
  },
  {
   "cell_type": "code",
   "execution_count": 14,
   "id": "5f6e2985",
   "metadata": {},
   "outputs": [
    {
     "name": "stdout",
     "output_type": "stream",
     "text": [
      "R Squared:\n",
      "0.9697466074149553\n",
      "Intercept:\n",
      "[-119.06594197]\n",
      "Slope:\n",
      "[[0.06304458]]\n"
     ]
    }
   ],
   "source": [
    "X = sea_lvl['Year'].values.reshape(-1,1)\n",
    "y = sea_lvl['sea_level'].values.reshape(-1,1)\n",
    "model = LinearRegression().fit(X,y)\n",
    "r_sq = model.score(X,y)\n",
    "print('R Squared:')\n",
    "print(r_sq)\n",
    "print('Intercept:')\n",
    "print(model.intercept_)\n",
    "print('Slope:')\n",
    "print(model.coef_)"
   ]
  },
  {
   "cell_type": "code",
   "execution_count": 15,
   "id": "654b89d7",
   "metadata": {},
   "outputs": [
    {
     "data": {
      "text/plain": [
       "array([[10.17545526]])"
      ]
     },
     "execution_count": 15,
     "metadata": {},
     "output_type": "execute_result"
    }
   ],
   "source": [
    "pred = model.predict([[2050]])\n",
    "pred"
   ]
  }
 ],
 "metadata": {
  "kernelspec": {
   "display_name": "Python 3",
   "language": "python",
   "name": "python3"
  },
  "language_info": {
   "codemirror_mode": {
    "name": "ipython",
    "version": 3
   },
   "file_extension": ".py",
   "mimetype": "text/x-python",
   "name": "python",
   "nbconvert_exporter": "python",
   "pygments_lexer": "ipython3",
   "version": "3.8.8"
  }
 },
 "nbformat": 4,
 "nbformat_minor": 5
}
