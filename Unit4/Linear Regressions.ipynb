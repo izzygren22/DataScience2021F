{
 "cells": [
  {
   "cell_type": "code",
   "execution_count": 4,
   "id": "3c97052b",
   "metadata": {},
   "outputs": [
    {
     "data": {
      "text/plain": [
       "'people.csv'"
      ]
     },
     "execution_count": 4,
     "metadata": {},
     "output_type": "execute_result"
    }
   ],
   "source": [
    "import pandas as pd\n",
    "from sklearn.linear_model import LinearRegression\n",
    "from shutil import copyfile\n",
    "\n",
    "# copyfile(src, dst) - we will need to use relative paths to find the file\n",
    "copyfile('../Unit2/people.csv', 'people.csv')"
   ]
  },
  {
   "cell_type": "code",
   "execution_count": 5,
   "id": "ba63fd28",
   "metadata": {},
   "outputs": [
    {
     "data": {
      "text/html": [
       "<div>\n",
       "<style scoped>\n",
       "    .dataframe tbody tr th:only-of-type {\n",
       "        vertical-align: middle;\n",
       "    }\n",
       "\n",
       "    .dataframe tbody tr th {\n",
       "        vertical-align: top;\n",
       "    }\n",
       "\n",
       "    .dataframe thead th {\n",
       "        text-align: right;\n",
       "    }\n",
       "</style>\n",
       "<table border=\"1\" class=\"dataframe\">\n",
       "  <thead>\n",
       "    <tr style=\"text-align: right;\">\n",
       "      <th></th>\n",
       "      <th>name</th>\n",
       "      <th>height</th>\n",
       "      <th>num_friends</th>\n",
       "      <th>sport</th>\n",
       "      <th>shoes</th>\n",
       "      <th>gpa</th>\n",
       "    </tr>\n",
       "  </thead>\n",
       "  <tbody>\n",
       "    <tr>\n",
       "      <th>0</th>\n",
       "      <td>Emerson</td>\n",
       "      <td>65</td>\n",
       "      <td>213</td>\n",
       "      <td>soccer</td>\n",
       "      <td>sneakers</td>\n",
       "      <td>3.06</td>\n",
       "    </tr>\n",
       "    <tr>\n",
       "      <th>1</th>\n",
       "      <td>Jessie</td>\n",
       "      <td>61</td>\n",
       "      <td>202</td>\n",
       "      <td>basketball</td>\n",
       "      <td>flip flop</td>\n",
       "      <td>2.41</td>\n",
       "    </tr>\n",
       "    <tr>\n",
       "      <th>2</th>\n",
       "      <td>Sawyer</td>\n",
       "      <td>67</td>\n",
       "      <td>314</td>\n",
       "      <td>tennis</td>\n",
       "      <td>flip flop</td>\n",
       "      <td>2.96</td>\n",
       "    </tr>\n",
       "    <tr>\n",
       "      <th>3</th>\n",
       "      <td>London</td>\n",
       "      <td>64</td>\n",
       "      <td>436</td>\n",
       "      <td>soccer</td>\n",
       "      <td>sneakers</td>\n",
       "      <td>3.98</td>\n",
       "    </tr>\n",
       "    <tr>\n",
       "      <th>4</th>\n",
       "      <td>Dakota</td>\n",
       "      <td>72</td>\n",
       "      <td>307</td>\n",
       "      <td>basketball</td>\n",
       "      <td>sneakers</td>\n",
       "      <td>3.15</td>\n",
       "    </tr>\n",
       "    <tr>\n",
       "      <th>5</th>\n",
       "      <td>Hayden</td>\n",
       "      <td>68</td>\n",
       "      <td>335</td>\n",
       "      <td>tennis</td>\n",
       "      <td>flip flop</td>\n",
       "      <td>3.50</td>\n",
       "    </tr>\n",
       "    <tr>\n",
       "      <th>6</th>\n",
       "      <td>Charlie</td>\n",
       "      <td>61</td>\n",
       "      <td>34</td>\n",
       "      <td>baseball</td>\n",
       "      <td>flip flop</td>\n",
       "      <td>1.10</td>\n",
       "    </tr>\n",
       "    <tr>\n",
       "      <th>7</th>\n",
       "      <td>Kamryn</td>\n",
       "      <td>66</td>\n",
       "      <td>200</td>\n",
       "      <td>soccer</td>\n",
       "      <td>sneakers</td>\n",
       "      <td>2.18</td>\n",
       "    </tr>\n",
       "  </tbody>\n",
       "</table>\n",
       "</div>"
      ],
      "text/plain": [
       "      name  height   num_friends       sport      shoes   gpa\n",
       "0  Emerson       65          213      soccer   sneakers  3.06\n",
       "1   Jessie       61          202  basketball  flip flop  2.41\n",
       "2   Sawyer       67          314      tennis  flip flop  2.96\n",
       "3   London       64          436      soccer   sneakers  3.98\n",
       "4   Dakota       72          307  basketball   sneakers  3.15\n",
       "5   Hayden       68          335      tennis  flip flop  3.50\n",
       "6  Charlie       61           34    baseball  flip flop  1.10\n",
       "7   Kamryn       66          200      soccer   sneakers  2.18"
      ]
     },
     "execution_count": 5,
     "metadata": {},
     "output_type": "execute_result"
    }
   ],
   "source": [
    "#import as pd df\n",
    "people = pd.read_csv('people.csv')\n",
    "people"
   ]
  },
  {
   "cell_type": "code",
   "execution_count": 8,
   "id": "07542168",
   "metadata": {},
   "outputs": [],
   "source": [
    "X = people['gpa'].values.reshape(-1, 1)\n",
    "y = people['num_friends'].values.reshape(-1, 1)"
   ]
  },
  {
   "cell_type": "code",
   "execution_count": 9,
   "id": "8260f69e",
   "metadata": {},
   "outputs": [
    {
     "data": {
      "text/plain": [
       "LinearRegression()"
      ]
     },
     "execution_count": 9,
     "metadata": {},
     "output_type": "execute_result"
    }
   ],
   "source": [
    "from sklearn.linear_model import LinearRegression\n",
    "regressor = LinearRegression()\n",
    "regressor.fit(X, y)"
   ]
  },
  {
   "cell_type": "code",
   "execution_count": 10,
   "id": "594b677a",
   "metadata": {},
   "outputs": [
    {
     "name": "stdout",
     "output_type": "stream",
     "text": [
      "Intercept\n",
      "[-107.2114986]\n"
     ]
    }
   ],
   "source": [
    "print('Intercept')\n",
    "print(regressor.intercept_)"
   ]
  },
  {
   "cell_type": "code",
   "execution_count": 11,
   "id": "01b653b5",
   "metadata": {},
   "outputs": [
    {
     "name": "stdout",
     "output_type": "stream",
     "text": [
      "Slope\n",
      "[[129.75344623]]\n"
     ]
    }
   ],
   "source": [
    "print('Slope')\n",
    "print(regressor.coef_)"
   ]
  },
  {
   "cell_type": "code",
   "execution_count": 12,
   "id": "be4d323c",
   "metadata": {},
   "outputs": [
    {
     "name": "stdout",
     "output_type": "stream",
     "text": [
      "R-Squared Score\n",
      "0.9137344895912348\n"
     ]
    }
   ],
   "source": [
    "print('R-Squared Score')\n",
    "print(regressor.score(X,y))"
   ]
  },
  {
   "cell_type": "code",
   "execution_count": null,
   "id": "0bb40b49",
   "metadata": {},
   "outputs": [],
   "source": []
  }
 ],
 "metadata": {
  "kernelspec": {
   "display_name": "Python 3",
   "language": "python",
   "name": "python3"
  },
  "language_info": {
   "codemirror_mode": {
    "name": "ipython",
    "version": 3
   },
   "file_extension": ".py",
   "mimetype": "text/x-python",
   "name": "python",
   "nbconvert_exporter": "python",
   "pygments_lexer": "ipython3",
   "version": "3.8.8"
  }
 },
 "nbformat": 4,
 "nbformat_minor": 5
}
