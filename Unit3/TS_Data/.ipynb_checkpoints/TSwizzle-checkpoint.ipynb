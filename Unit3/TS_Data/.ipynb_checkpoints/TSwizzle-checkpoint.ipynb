{
 "cells": [
  {
   "cell_type": "markdown",
   "id": "2f620f50",
   "metadata": {},
   "source": [
    "# Heatmap showing relationship between swear words and track number\n",
    "# Heatmap showing relationship between emotion words and track number\n",
    "# Vulgarity over time"
   ]
  }
 ],
 "metadata": {
  "kernelspec": {
   "display_name": "Python 3",
   "language": "python",
   "name": "python3"
  },
  "language_info": {
   "codemirror_mode": {
    "name": "ipython",
    "version": 3
   },
   "file_extension": ".py",
   "mimetype": "text/x-python",
   "name": "python",
   "nbconvert_exporter": "python",
   "pygments_lexer": "ipython3",
   "version": "3.8.8"
  }
 },
 "nbformat": 4,
 "nbformat_minor": 5
}
