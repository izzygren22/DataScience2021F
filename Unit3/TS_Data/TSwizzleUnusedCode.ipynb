{
 "cells": [
  {
   "cell_type": "code",
   "execution_count": null,
   "id": "1ee44890",
   "metadata": {},
   "outputs": [],
   "source": [
    "#stacked bar graph of swears\n",
    "# s1 = sns.barplot(x = 'Day', y = 'Price 1', data = df, color = 'red')\n",
    "# s2 = sns.barplot(x = 'Day', y = 'Price 2', data = df, color = 'blue')\n",
    "ts_swears = swr_data.groupby('album_name')['is_swear'].value_counts().to_frame()\n",
    "ts_swears.columns = ts_swears.columns[:-1].tolist() + ['num'] \n",
    "# ts_swears = ts_swears.loc[ts_swears['is_swear'] == True]\n",
    "sns.barplot(x= 'album_name', y = 'is_swear', data = ts_swears)"
   ]
  }
 ],
 "metadata": {
  "kernelspec": {
   "display_name": "Python 3",
   "language": "python",
   "name": "python3"
  },
  "language_info": {
   "codemirror_mode": {
    "name": "ipython",
    "version": 3
   },
   "file_extension": ".py",
   "mimetype": "text/x-python",
   "name": "python",
   "nbconvert_exporter": "python",
   "pygments_lexer": "ipython3",
   "version": "3.8.8"
  }
 },
 "nbformat": 4,
 "nbformat_minor": 5
}
