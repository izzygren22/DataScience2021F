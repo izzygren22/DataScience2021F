{
 "cells": [
  {
   "cell_type": "markdown",
   "id": "31f94003",
   "metadata": {},
   "source": [
    "# Data Science Lesson - Scatter Plot\n",
    "---\n",
    "\n",
    "Copy the people.csv file that we used at the start of unit 2 into your unit 3 folder. We can actually use Python to do this!"
   ]
  },
  {
   "cell_type": "code",
   "execution_count": 1,
   "id": "c41c0ff0",
   "metadata": {},
   "outputs": [
    {
     "data": {
      "text/plain": [
       "'people.csv'"
      ]
     },
     "execution_count": 1,
     "metadata": {},
     "output_type": "execute_result"
    }
   ],
   "source": [
    "from shutil import copyfile\n",
    "\n",
    "# copyfile(src, dst) - we will need to use relative paths to find the file\n",
    "copyfile('../Unit2/people.csv', 'people.csv')"
   ]
  },
  {
   "cell_type": "markdown",
   "id": "c0490743",
   "metadata": {},
   "source": [
    "Now we need pandas for a DataFrame and matplootlib.pyplot for plotting:"
   ]
  },
  {
   "cell_type": "code",
   "execution_count": 2,
   "id": "1d1b3a95",
   "metadata": {},
   "outputs": [
    {
     "data": {
      "text/html": [
       "<div>\n",
       "<style scoped>\n",
       "    .dataframe tbody tr th:only-of-type {\n",
       "        vertical-align: middle;\n",
       "    }\n",
       "\n",
       "    .dataframe tbody tr th {\n",
       "        vertical-align: top;\n",
       "    }\n",
       "\n",
       "    .dataframe thead th {\n",
       "        text-align: right;\n",
       "    }\n",
       "</style>\n",
       "<table border=\"1\" class=\"dataframe\">\n",
       "  <thead>\n",
       "    <tr style=\"text-align: right;\">\n",
       "      <th></th>\n",
       "      <th>name</th>\n",
       "      <th>height</th>\n",
       "      <th>num_friends</th>\n",
       "      <th>sport</th>\n",
       "      <th>shoes</th>\n",
       "      <th>gpa</th>\n",
       "    </tr>\n",
       "  </thead>\n",
       "  <tbody>\n",
       "    <tr>\n",
       "      <th>0</th>\n",
       "      <td>Emerson</td>\n",
       "      <td>65</td>\n",
       "      <td>213</td>\n",
       "      <td>soccer</td>\n",
       "      <td>sneakers</td>\n",
       "      <td>3.06</td>\n",
       "    </tr>\n",
       "    <tr>\n",
       "      <th>1</th>\n",
       "      <td>Jessie</td>\n",
       "      <td>61</td>\n",
       "      <td>202</td>\n",
       "      <td>basketball</td>\n",
       "      <td>flip flop</td>\n",
       "      <td>2.41</td>\n",
       "    </tr>\n",
       "    <tr>\n",
       "      <th>2</th>\n",
       "      <td>Sawyer</td>\n",
       "      <td>67</td>\n",
       "      <td>314</td>\n",
       "      <td>tennis</td>\n",
       "      <td>flip flop</td>\n",
       "      <td>2.96</td>\n",
       "    </tr>\n",
       "    <tr>\n",
       "      <th>3</th>\n",
       "      <td>London</td>\n",
       "      <td>64</td>\n",
       "      <td>436</td>\n",
       "      <td>soccer</td>\n",
       "      <td>sneakers</td>\n",
       "      <td>3.98</td>\n",
       "    </tr>\n",
       "    <tr>\n",
       "      <th>4</th>\n",
       "      <td>Dakota</td>\n",
       "      <td>72</td>\n",
       "      <td>307</td>\n",
       "      <td>basketball</td>\n",
       "      <td>sneakers</td>\n",
       "      <td>3.15</td>\n",
       "    </tr>\n",
       "    <tr>\n",
       "      <th>5</th>\n",
       "      <td>Hayden</td>\n",
       "      <td>68</td>\n",
       "      <td>335</td>\n",
       "      <td>tennis</td>\n",
       "      <td>flip flop</td>\n",
       "      <td>3.50</td>\n",
       "    </tr>\n",
       "    <tr>\n",
       "      <th>6</th>\n",
       "      <td>Charlie</td>\n",
       "      <td>61</td>\n",
       "      <td>34</td>\n",
       "      <td>baseball</td>\n",
       "      <td>flip flop</td>\n",
       "      <td>1.10</td>\n",
       "    </tr>\n",
       "    <tr>\n",
       "      <th>7</th>\n",
       "      <td>Kamryn</td>\n",
       "      <td>66</td>\n",
       "      <td>200</td>\n",
       "      <td>soccer</td>\n",
       "      <td>sneakers</td>\n",
       "      <td>2.18</td>\n",
       "    </tr>\n",
       "  </tbody>\n",
       "</table>\n",
       "</div>"
      ],
      "text/plain": [
       "      name  height   num_friends       sport      shoes   gpa\n",
       "0  Emerson       65          213      soccer   sneakers  3.06\n",
       "1   Jessie       61          202  basketball  flip flop  2.41\n",
       "2   Sawyer       67          314      tennis  flip flop  2.96\n",
       "3   London       64          436      soccer   sneakers  3.98\n",
       "4   Dakota       72          307  basketball   sneakers  3.15\n",
       "5   Hayden       68          335      tennis  flip flop  3.50\n",
       "6  Charlie       61           34    baseball  flip flop  1.10\n",
       "7   Kamryn       66          200      soccer   sneakers  2.18"
      ]
     },
     "execution_count": 2,
     "metadata": {},
     "output_type": "execute_result"
    }
   ],
   "source": [
    "import pandas as pd\n",
    "import matplotlib.pyplot as plt\n",
    "# %matplotlib inline - no longer needed\n",
    "\n",
    "people = pd.read_csv('people.csv')\n",
    "people"
   ]
  },
  {
   "cell_type": "markdown",
   "id": "34b60923",
   "metadata": {},
   "source": [
    "We're now ready to make a scatter plot, like so:"
   ]
  },
  {
   "cell_type": "code",
   "execution_count": 4,
   "id": "a0a03c92",
   "metadata": {},
   "outputs": [
    {
     "data": {
      "image/png": "[encoded data removed]",
      "text/plain": [
       "<Figure size 432x288 with 1 Axes>"
      ]
     },
     "metadata": {
      "needs_background": "light"
     },
     "output_type": "display_data"
    }
   ],
   "source": [
    "plt.scatter(people['gpa'], people['num_friends'])\n",
    "plt.show()"
   ]
  },
  {
   "cell_type": "markdown",
   "id": "4eff1576",
   "metadata": {},
   "source": [
    "The plt.show() is a little helper for multiple plots. Try commenting it out. We still get a plot, but we also get something like <matplotlib.collections.PathCollection at 0x1b5828b5fa0>, which is not really useful right now.\n",
    "\n",
    "Let's add some labels to the axes, and gridlines:"
   ]
  },
  {
   "cell_type": "code",
   "execution_count": 8,
   "id": "ea44620c",
   "metadata": {},
   "outputs": [
    {
     "data": {
      "text/plain": [
       "Text(0, 0.5, '# of Friends')"
      ]
     },
     "execution_count": 8,
     "metadata": {},
     "output_type": "execute_result"
    },
    {
     "data": {
      "image/png": "[encoded data removed]",
      "text/plain": [
       "<Figure size 432x288 with 1 Axes>"
      ]
     },
     "metadata": {
      "needs_background": "light"
     },
     "output_type": "display_data"
    }
   ],
   "source": [
    "# we need to redefine the plot after showing it above\n",
    "plt.scatter(people['gpa'], people['num_friends'])\n",
    "\n",
    "plt.grid()\n",
    "\n",
    "plt.xlabel(\"GPA\")\n",
    "plt.ylabel(\"# of Friends\")\n",
    "\n",
    "#plt.show()"
   ]
  },
  {
   "cell_type": "markdown",
   "id": "07885e5a",
   "metadata": {},
   "source": [
    "There's a lot more control we can exert over the plot, but we can learn that on an \"as-needed\" basis! Just look at the matplotlib documentation:\n",
    "https://matplotlib.org/\n",
    "\n",
    "Why is this plot useful? What do you notice? Could you use it to predict how many friends you would have if you had a 3.5 GPA? Or do you think that you could raise your GPA by getting more friends?\n",
    "\n",
    "Try fitting a line as best you can to the scatter plot (just eyeball start and endpoints). If we want to show it on the plot, we actually need numpy arrays, like so:"
   ]
  },
  {
   "cell_type": "code",
   "execution_count": 9,
   "id": "07c49b97",
   "metadata": {},
   "outputs": [
    {
     "data": {
      "image/png": "[encoded data removed]",
      "text/plain": [
       "<Figure size 432x288 with 1 Axes>"
      ]
     },
     "metadata": {
      "needs_background": "light"
     },
     "output_type": "display_data"
    }
   ],
   "source": [
    "import numpy as np\n",
    "\n",
    "xpoints = np.array([1.0, 4.0])\n",
    "ypoints = np.array([30, 440])\n",
    "\n",
    "plt.scatter(people['gpa'], people['num_friends'])\n",
    "\n",
    "plt.plot(xpoints, ypoints, \"r-\") # can you make the line red?\n",
    "\n",
    "plt.grid()\n",
    "\n",
    "plt.xlabel(\"GPA\")\n",
    "plt.ylabel(\"# of Friends\")\n",
    "\n",
    "plt.show()"
   ]
  },
  {
   "cell_type": "markdown",
   "id": "e23a08db",
   "metadata": {},
   "source": [
    "Now, produce a correlation matrix for this DataFrame and see what it tells you."
   ]
  },
  {
   "cell_type": "code",
   "execution_count": 10,
   "id": "af9c71ce",
   "metadata": {},
   "outputs": [
    {
     "data": {
      "text/html": [
       "<div>\n",
       "<style scoped>\n",
       "    .dataframe tbody tr th:only-of-type {\n",
       "        vertical-align: middle;\n",
       "    }\n",
       "\n",
       "    .dataframe tbody tr th {\n",
       "        vertical-align: top;\n",
       "    }\n",
       "\n",
       "    .dataframe thead th {\n",
       "        text-align: right;\n",
       "    }\n",
       "</style>\n",
       "<table border=\"1\" class=\"dataframe\">\n",
       "  <thead>\n",
       "    <tr style=\"text-align: right;\">\n",
       "      <th></th>\n",
       "      <th>height</th>\n",
       "      <th>num_friends</th>\n",
       "      <th>gpa</th>\n",
       "    </tr>\n",
       "  </thead>\n",
       "  <tbody>\n",
       "    <tr>\n",
       "      <th>height</th>\n",
       "      <td>1.000000</td>\n",
       "      <td>0.511286</td>\n",
       "      <td>0.502907</td>\n",
       "    </tr>\n",
       "    <tr>\n",
       "      <th>num_friends</th>\n",
       "      <td>0.511286</td>\n",
       "      <td>1.000000</td>\n",
       "      <td>0.955895</td>\n",
       "    </tr>\n",
       "    <tr>\n",
       "      <th>gpa</th>\n",
       "      <td>0.502907</td>\n",
       "      <td>0.955895</td>\n",
       "      <td>1.000000</td>\n",
       "    </tr>\n",
       "  </tbody>\n",
       "</table>\n",
       "</div>"
      ],
      "text/plain": [
       "              height   num_friends       gpa\n",
       "height       1.000000     0.511286  0.502907\n",
       "num_friends  0.511286     1.000000  0.955895\n",
       "gpa          0.502907     0.955895  1.000000"
      ]
     },
     "execution_count": 10,
     "metadata": {},
     "output_type": "execute_result"
    }
   ],
   "source": [
    "people.corr()"
   ]
  },
  {
   "cell_type": "code",
   "execution_count": null,
   "id": "576213ac",
   "metadata": {},
   "outputs": [],
   "source": []
  }
 ],
 "metadata": {
  "kernelspec": {
   "display_name": "Python 3",
   "language": "python",
   "name": "python3"
  },
  "language_info": {
   "codemirror_mode": {
    "name": "ipython",
    "version": 3
   },
   "file_extension": ".py",
   "mimetype": "text/x-python",
   "name": "python",
   "nbconvert_exporter": "python",
   "pygments_lexer": "ipython3",
   "version": "3.8.8"
  }
 },
 "nbformat": 4,
 "nbformat_minor": 5
}
