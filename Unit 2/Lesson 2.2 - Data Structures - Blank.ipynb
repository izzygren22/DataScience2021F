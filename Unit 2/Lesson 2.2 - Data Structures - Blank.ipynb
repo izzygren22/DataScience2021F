{
 "cells": [
  {
   "cell_type": "markdown",
   "id": "a3a28689",
   "metadata": {},
   "source": [
    "# Data Science Lesson - Data Structures\n",
    "---\n",
    "**Question: How do we represent our Stick Figure Google Sheet (table) in a Python variable?**\n",
    "\n",
    "### List of Dictionaries\n",
    "\n",
    "Represent each person as a dictionary, and store them all in a list. Output the list to verify."
   ]
  },
  {
   "cell_type": "code",
   "execution_count": 4,
   "id": "46d98ee3",
   "metadata": {},
   "outputs": [
    {
     "name": "stdout",
     "output_type": "stream",
     "text": [
      "[{'name': 'emerson', 'height': 65, 'num_friends': 213, 'sport': 'soccer', 'shoes': 'sneakers', 'gpa': 3.06}, {'name': 'jessie', 'height': 61, 'num_friends': 202, 'sport': 'basketball', 'shoes': 'flip flops', 'gpa': 2.41}, {'name': 'sawyer', 'height': 67, 'num_friends': 314, 'sport': 'tennis', 'shoes': 'flip flops', 'gpa': 2.96}, {'name': 'london', 'height': 64, 'num_friends': 436, 'sport': 'soccer', 'shoes': 'sneakers', 'gpa': 3.98}, {'name': 'dakota', 'height': 72, 'num_friends': 307, 'sport': 'basketball', 'shoes': 'sneakers', 'gpa': 3.15}, {'name': 'hayden', 'height': 68, 'num_friends': 335, 'sport': 'tennis', 'shoes': 'flip flop', 'gpa': 3.5}, {'name': 'charlie', 'height': 61, 'num_friends': 34, 'sport': 'baseball', 'shoes': 'flip flops', 'gpa': 1.1}, {'name': 'kamryn', 'height': 66, 'num_friends': 200, 'sport': 'soccer', 'shoes': 'sneakers', 'gpa': 2.18}]\n"
     ]
    }
   ],
   "source": [
    "person1 = {\n",
    "    'name':'emerson',\n",
    "    'height':65,\n",
    "    'num_friends':213,\n",
    "    'sport':'soccer',\n",
    "    'shoes':'sneakers',\n",
    "    'gpa':3.06\n",
    "}\n",
    "\n",
    "person2 = {\n",
    "    'name':'jessie',\n",
    "    'height':61,\n",
    "    'num_friends':202,\n",
    "    'sport':'basketball',\n",
    "    'shoes':'flip flops',\n",
    "    'gpa':2.41\n",
    "}\n",
    "\n",
    "person3 = {\n",
    "    'name':'sawyer',\n",
    "    'height':67,\n",
    "    'num_friends':314,\n",
    "    'sport':'tennis',\n",
    "    'shoes':'flip flops',\n",
    "    'gpa':2.96\n",
    "}\n",
    "\n",
    "person4 = {\n",
    "    'name':'london',\n",
    "    'height':64,\n",
    "    'num_friends':436,\n",
    "    'sport':'soccer',\n",
    "    'shoes':'sneakers',\n",
    "    'gpa':3.98\n",
    "}\n",
    "\n",
    "person5 = {\n",
    "    'name':'dakota',\n",
    "    'height':72,\n",
    "    'num_friends':307,\n",
    "    'sport':'basketball',\n",
    "    'shoes':'sneakers',\n",
    "    'gpa':3.15\n",
    "}\n",
    "\n",
    "person6 = {\n",
    "    'name':'hayden',\n",
    "    'height':68,\n",
    "    'num_friends':335,\n",
    "    'sport':'tennis',\n",
    "    'shoes':'flip flop',\n",
    "    'gpa':3.5\n",
    "}\n",
    "\n",
    "person7 = {\n",
    "    'name':'charlie',\n",
    "    'height':61,\n",
    "    'num_friends':34,\n",
    "    'sport':'baseball',\n",
    "    'shoes':'flip flops',\n",
    "    'gpa':1.1\n",
    "}\n",
    "\n",
    "person8 = {\n",
    "    'name':'kamryn',\n",
    "    'height':66,\n",
    "    'num_friends':200,\n",
    "    'sport':'soccer',\n",
    "    'shoes':'sneakers',\n",
    "    'gpa':2.18\n",
    "}\n",
    "\n",
    "people = [person1, person2, person3, person4, person5, person6, person7, person8];\n",
    "print(people)"
   ]
  },
  {
   "cell_type": "markdown",
   "id": "9dee2d16",
   "metadata": {},
   "source": [
    "What is the mean height of people in our list? First, use pure Python functions to calculate this, and output to verify. First, get the heights:"
   ]
  },
  {
   "cell_type": "code",
   "execution_count": 22,
   "id": "3525da44",
   "metadata": {},
   "outputs": [],
   "source": [
    "heights = [person[\"height\"] for person in people]"
   ]
  },
  {
   "cell_type": "markdown",
   "id": "b4a0df31",
   "metadata": {},
   "source": [
    "Next, calculate the mean:"
   ]
  },
  {
   "cell_type": "code",
   "execution_count": 23,
   "id": "5959d6e7",
   "metadata": {},
   "outputs": [
    {
     "name": "stdout",
     "output_type": "stream",
     "text": [
      "65.5\n"
     ]
    }
   ],
   "source": [
    "mean = sum(heights)/len(heights)\n",
    "print(mean)"
   ]
  },
  {
   "cell_type": "markdown",
   "id": "bd6592b4",
   "metadata": {},
   "source": [
    "Now, import numpy (as np) and use its mean function to find the mean of the heights list directly."
   ]
  },
  {
   "cell_type": "code",
   "execution_count": 16,
   "id": "dac4edc5",
   "metadata": {},
   "outputs": [
    {
     "name": "stdout",
     "output_type": "stream",
     "text": [
      "65.5\n"
     ]
    }
   ],
   "source": [
    "import numpy as np\n",
    "mean = np.mean(heights)\n",
    "print(mean)"
   ]
  },
  {
   "cell_type": "markdown",
   "id": "25f72f93",
   "metadata": {},
   "source": [
    "## Dictionary of Lists\n",
    "\n",
    "Using a dictionary and key/value pairs, represent each attribute (column) of a person as a key and all the values of each attribute as a list. I.e., a dictionary of lists. Output the dict to verify."
   ]
  },
  {
   "cell_type": "code",
   "execution_count": 25,
   "id": "d5dca641",
   "metadata": {},
   "outputs": [],
   "source": [
    "people2 = {\n",
    "    'names':[person['name'] for person in people],\n",
    "    'heights':[person['height'] for person in people],\n",
    "    'num_friends':[person['num_friends'] for person in people],\n",
    "    'sports':[person['sport'] for person in people],\n",
    "    'shoes':[person['shoes'] for person in people],\n",
    "    \"gpas\":[person['gpa'] for person in people]\n",
    "}"
   ]
  },
  {
   "cell_type": "markdown",
   "id": "846bdc27",
   "metadata": {},
   "source": [
    "Now use NumPy to get the mean in one statement."
   ]
  },
  {
   "cell_type": "code",
   "execution_count": 30,
   "id": "898bb3cd",
   "metadata": {},
   "outputs": [
    {
     "data": {
      "text/plain": [
       "65.5"
      ]
     },
     "execution_count": 30,
     "metadata": {},
     "output_type": "execute_result"
    }
   ],
   "source": [
    "np.mean(people2[\"heights\"])"
   ]
  },
  {
   "cell_type": "markdown",
   "id": "5f0ed550",
   "metadata": {},
   "source": [
    "**So, which approach should we use? Or is there a better way? Hmmm...**"
   ]
  }
 ],
 "metadata": {
  "kernelspec": {
   "display_name": "Python 3",
   "language": "python",
   "name": "python3"
  },
  "language_info": {
   "codemirror_mode": {
    "name": "ipython",
    "version": 3
   },
   "file_extension": ".py",
   "mimetype": "text/x-python",
   "name": "python",
   "nbconvert_exporter": "python",
   "pygments_lexer": "ipython3",
   "version": "3.8.8"
  }
 },
 "nbformat": 4,
 "nbformat_minor": 5
}
