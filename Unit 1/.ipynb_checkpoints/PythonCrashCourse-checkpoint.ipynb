{
 "cells": [
  {
   "cell_type": "markdown",
   "id": "b146e9e3",
   "metadata": {},
   "source": [
    "# Python Crash Course\n",
    "How to Python! "
   ]
  },
  {
   "cell_type": "code",
   "execution_count": 1,
   "id": "0737098b",
   "metadata": {},
   "outputs": [
    {
     "name": "stdout",
     "output_type": "stream",
     "text": [
      "hello world :)\n"
     ]
    }
   ],
   "source": [
    "print ('hello world :)')"
   ]
  },
  {
   "cell_type": "markdown",
   "id": "5d83c0d0",
   "metadata": {},
   "source": [
    "## Variables"
   ]
  },
  {
   "cell_type": "code",
   "execution_count": 2,
   "id": "911c31fe",
   "metadata": {},
   "outputs": [
    {
     "name": "stdout",
     "output_type": "stream",
     "text": [
      "17\n",
      "Izzy\n"
     ]
    }
   ],
   "source": [
    "age = 17\n",
    "print(age)\n",
    "\n",
    "name = 'Izzy'\n",
    "print (name)"
   ]
  },
  {
   "cell_type": "code",
   "execution_count": 3,
   "id": "fc140fd2",
   "metadata": {},
   "outputs": [
    {
     "name": "stdout",
     "output_type": "stream",
     "text": [
      "Hi! I am Izzy Grenier\n",
      "Izzy has 1 sibling\n"
     ]
    }
   ],
   "source": [
    "#multiple vars in one line\n",
    "numSibs, lastName, tvShow = 1, 'Grenier', 'Community'\n",
    "print ('Hi! I am ' + name + ' ' + lastName)\n",
    "print (name + ' has ' + str(numSibs) + ' sibling')\n"
   ]
  },
  {
   "cell_type": "markdown",
   "id": "99049c68",
   "metadata": {},
   "source": [
    "## Comments"
   ]
  },
  {
   "cell_type": "code",
   "execution_count": 4,
   "id": "4738ec0e",
   "metadata": {},
   "outputs": [],
   "source": [
    "# make a singal line comment using '#'"
   ]
  },
  {
   "cell_type": "code",
   "execution_count": 5,
   "id": "6f0479ea",
   "metadata": {},
   "outputs": [],
   "source": [
    "#This is a comment\n",
    "#written in\n",
    "#more than just one line"
   ]
  },
  {
   "cell_type": "markdown",
   "id": "2b88e638",
   "metadata": {},
   "source": [
    "## Casting"
   ]
  },
  {
   "cell_type": "code",
   "execution_count": 6,
   "id": "a59fa8d2",
   "metadata": {},
   "outputs": [
    {
     "name": "stdout",
     "output_type": "stream",
     "text": [
      "Izzy is 17\n"
     ]
    }
   ],
   "source": [
    "print(name + ' is ' + str(age))"
   ]
  },
  {
   "cell_type": "markdown",
   "id": "99535e57",
   "metadata": {},
   "source": [
    "### Cast float to int"
   ]
  },
  {
   "cell_type": "code",
   "execution_count": 7,
   "id": "23eaf324",
   "metadata": {},
   "outputs": [
    {
     "name": "stdout",
     "output_type": "stream",
     "text": [
      "3.2\n",
      "3\n"
     ]
    }
   ],
   "source": [
    "x = 3.2\n",
    "print(x)\n",
    "x = int(x)\n",
    "print(x)"
   ]
  },
  {
   "cell_type": "markdown",
   "id": "cdbc2a12",
   "metadata": {},
   "source": [
    "## Data Types"
   ]
  },
  {
   "cell_type": "code",
   "execution_count": 8,
   "id": "82666884",
   "metadata": {},
   "outputs": [
    {
     "name": "stdout",
     "output_type": "stream",
     "text": [
      "<class 'int'>\n"
     ]
    }
   ],
   "source": [
    "print(type(age))"
   ]
  },
  {
   "cell_type": "markdown",
   "id": "66e96450",
   "metadata": {},
   "source": [
    "### Strings"
   ]
  },
  {
   "cell_type": "code",
   "execution_count": 9,
   "id": "95c9a8f5",
   "metadata": {},
   "outputs": [
    {
     "name": "stdout",
     "output_type": "stream",
     "text": [
      "Izzy is very tired,\n",
      "her tongue is still burnt,\n",
      "from this morning\n",
      "which is not fun.\n"
     ]
    }
   ],
   "source": [
    "poem = '''Izzy is very tired,\n",
    "her tongue is still burnt,\n",
    "from this morning\n",
    "which is not fun.'''\n",
    "print(poem)"
   ]
  },
  {
   "cell_type": "code",
   "execution_count": 12,
   "id": "7b97736b",
   "metadata": {},
   "outputs": [
    {
     "name": "stdout",
     "output_type": "stream",
     "text": [
      "Izzy is very tired\n"
     ]
    }
   ],
   "source": [
    "firstLine = poem[0:18]\n",
    "print(firstLine);"
   ]
  },
  {
   "cell_type": "code",
   "execution_count": 14,
   "id": "2df26ec3",
   "metadata": {},
   "outputs": [
    {
     "name": "stdout",
     "output_type": "stream",
     "text": [
      "IZZY IS VERY TIRED,\n",
      "HER TONGUE IS STILL BURNT,\n",
      "FROM THIS MORNING\n",
      "WHICH IS NOT FUN.\n"
     ]
    }
   ],
   "source": [
    "print(poem.upper())"
   ]
  },
  {
   "cell_type": "code",
   "execution_count": 26,
   "id": "2ed61e17",
   "metadata": {},
   "outputs": [
    {
     "name": "stdout",
     "output_type": "stream",
     "text": [
      " Hi! I am a 'senior' at APH. \n"
     ]
    }
   ],
   "source": [
    "txt = ' Hi! I am a \\'senior\\' at APH. '\n",
    "print(txt)"
   ]
  },
  {
   "cell_type": "markdown",
   "id": "212f5619",
   "metadata": {},
   "source": [
    "### String Exercises"
   ]
  },
  {
   "cell_type": "markdown",
   "id": "f854902c",
   "metadata": {},
   "source": [
    "Find length of string"
   ]
  },
  {
   "cell_type": "code",
   "execution_count": 2,
   "id": "6cd04895",
   "metadata": {},
   "outputs": [
    {
     "name": "stdout",
     "output_type": "stream",
     "text": [
      "11\n"
     ]
    }
   ],
   "source": [
    "words = \"Hello World\"\n",
    "print(len(words))"
   ]
  },
  {
   "cell_type": "markdown",
   "id": "fe78ed57",
   "metadata": {},
   "source": [
    "Find first character of string"
   ]
  },
  {
   "cell_type": "code",
   "execution_count": 5,
   "id": "20219253",
   "metadata": {},
   "outputs": [
    {
     "name": "stdout",
     "output_type": "stream",
     "text": [
      "H\n"
     ]
    }
   ],
   "source": [
    "new = words[0]\n",
    "print (new)"
   ]
  },
  {
   "cell_type": "markdown",
   "id": "93fcbccb",
   "metadata": {},
   "source": [
    "get just 'llo' "
   ]
  },
  {
   "cell_type": "code",
   "execution_count": 9,
   "id": "0a28f14c",
   "metadata": {},
   "outputs": [
    {
     "name": "stdout",
     "output_type": "stream",
     "text": [
      "llo\n"
     ]
    }
   ],
   "source": [
    "new = words[2:5]\n",
    "print(new)"
   ]
  },
  {
   "cell_type": "code",
   "execution_count": null,
   "id": "dd5e7c77",
   "metadata": {},
   "outputs": [],
   "source": [
    "Remove whitespace"
   ]
  },
  {
   "cell_type": "code",
   "execution_count": 16,
   "id": "3a38ad80",
   "metadata": {},
   "outputs": [
    {
     "name": "stdout",
     "output_type": "stream",
     "text": [
      "Hello World\n"
     ]
    }
   ],
   "source": [
    "wrongwords = '   Hello World     '\n",
    "words = wrongwords.strip()\n",
    "print(words)"
   ]
  },
  {
   "cell_type": "markdown",
   "id": "56eaea51",
   "metadata": {},
   "source": [
    "Upper case"
   ]
  },
  {
   "cell_type": "code",
   "execution_count": 20,
   "id": "d03ce0bf",
   "metadata": {},
   "outputs": [
    {
     "name": "stdout",
     "output_type": "stream",
     "text": [
      "HELLO WORLD\n"
     ]
    }
   ],
   "source": [
    "words = words.upper()\n",
    "print(words)"
   ]
  },
  {
   "cell_type": "markdown",
   "id": "d39cd51c",
   "metadata": {},
   "source": [
    "Lower Case"
   ]
  },
  {
   "cell_type": "code",
   "execution_count": 21,
   "id": "fcc6c7cf",
   "metadata": {},
   "outputs": [
    {
     "name": "stdout",
     "output_type": "stream",
     "text": [
      "hello world\n"
     ]
    }
   ],
   "source": [
    "words = words.lower()\n",
    "print(words)"
   ]
  },
  {
   "cell_type": "markdown",
   "id": "792c58c5",
   "metadata": {},
   "source": [
    "Replace the character H with a J."
   ]
  },
  {
   "cell_type": "code",
   "execution_count": 23,
   "id": "fcca352a",
   "metadata": {},
   "outputs": [
    {
     "name": "stdout",
     "output_type": "stream",
     "text": [
      "jello world\n"
     ]
    }
   ],
   "source": [
    "newWords = words.replace(\"h\",\"j\")\n",
    "print(newWords)"
   ]
  },
  {
   "cell_type": "markdown",
   "id": "1407e0fe",
   "metadata": {},
   "source": [
    "Insert the correct syntax to add a placeholder for the age parameter."
   ]
  },
  {
   "cell_type": "code",
   "execution_count": 24,
   "id": "88d1d586",
   "metadata": {},
   "outputs": [
    {
     "name": "stdout",
     "output_type": "stream",
     "text": [
      "My name is John, and I am 36\n"
     ]
    }
   ],
   "source": [
    "age = 36\n",
    "txt = \"My name is John, and I am {}\"\n",
    "print(txt.format(age))"
   ]
  },
  {
   "cell_type": "markdown",
   "id": "4f995dde",
   "metadata": {},
   "source": [
    "## Booleans and Operations"
   ]
  },
  {
   "cell_type": "markdown",
   "id": "8f9d9ca7",
   "metadata": {},
   "source": [
    "Mod (%) is a operation that can be used to find the remainder of a "
   ]
  }
 ],
 "metadata": {
  "kernelspec": {
   "display_name": "Python 3 (ipykernel)",
   "language": "python",
   "name": "python3"
  },
  "language_info": {
   "codemirror_mode": {
    "name": "ipython",
    "version": 3
   },
   "file_extension": ".py",
   "mimetype": "text/x-python",
   "name": "python",
   "nbconvert_exporter": "python",
   "pygments_lexer": "ipython3",
   "version": "3.9.7"
  }
 },
 "nbformat": 4,
 "nbformat_minor": 5
}
