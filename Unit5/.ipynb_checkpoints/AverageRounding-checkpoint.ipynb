{
 "cells": [
  {
   "cell_type": "markdown",
   "id": "08cc2550",
   "metadata": {},
   "source": [
    "# Cumulative Average Rounding"
   ]
  },
  {
   "cell_type": "code",
   "execution_count": 1,
   "id": "2a5fabcd",
   "metadata": {},
   "outputs": [
    {
     "name": "stdout",
     "output_type": "stream",
     "text": [
      "90.0%\n"
     ]
    }
   ],
   "source": [
    "#Clean Way\n",
    "avg = 89.96\n",
    "avg = round(avg, 1)\n",
    "print(str(float(avg)) +'%')"
   ]
  },
  {
   "cell_type": "code",
   "execution_count": 4,
   "id": "5700a651",
   "metadata": {},
   "outputs": [
    {
     "name": "stdout",
     "output_type": "stream",
     "text": [
      "90.0%\n"
     ]
    }
   ],
   "source": [
    "#One Line Way\n",
    "avg = 89.96\n",
    "print(str(float(round(avg,1))) +'%')"
   ]
  }
 ],
 "metadata": {
  "kernelspec": {
   "display_name": "Python 3",
   "language": "python",
   "name": "python3"
  },
  "language_info": {
   "codemirror_mode": {
    "name": "ipython",
    "version": 3
   },
   "file_extension": ".py",
   "mimetype": "text/x-python",
   "name": "python",
   "nbconvert_exporter": "python",
   "pygments_lexer": "ipython3",
   "version": "3.8.8"
  }
 },
 "nbformat": 4,
 "nbformat_minor": 5
}
